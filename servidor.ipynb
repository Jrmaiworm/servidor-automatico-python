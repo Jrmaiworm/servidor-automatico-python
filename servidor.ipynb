{
 "cells": [
  {
   "cell_type": "code",
   "execution_count": 21,
   "metadata": {},
   "outputs": [],
   "source": [
    "from selenium import webdriver\n",
    "from selenium.webdriver.common.keys import Keys\n",
    "import pyautogui as py\n",
    "import time       \n",
    "import pyperclip \n",
    "\n",
    "#para abrir o navegador\n",
    "navegador = webdriver.Chrome()\n",
    "\n",
    "#entrar no site do servidor\n",
    "\n",
    "navegador.get(\"https://www.homehost.com.br/painelgeral/login.php\")\n",
    "navegador.find_element_by_xpath('/html/body/table/tbody/tr/td/form/table/tbody/tr[1]/td[2]/input').send_keys('allskyexossjam1.br-web.com')\n",
    "navegador.find_element_by_xpath('/html/body/table/tbody/tr/td/form/table/tbody/tr[2]/td[2]/input').send_keys('W87PPrXv9w00770')\n",
    "navegador.find_element_by_xpath('/html/body/table/tbody/tr/td/form/table/tbody/tr[3]/td[2]/input').send_keys(Keys.ENTER)\n",
    "\n",
    "#entrar no painel de controle\n",
    "\n",
    "time.sleep(5)\n",
    "\n",
    "\n",
    "py.click(1002, 548)\n",
    "\n",
    "py.click(184, 506)\n",
    "time.sleep(12)\n",
    "py.click(506, 252)\n",
    "py.click(505, 373)\n"
   ]
  },
  {
   "cell_type": "code",
   "execution_count": 20,
   "metadata": {},
   "outputs": [
    {
     "data": {
      "text/plain": [
       "Point(x=506, y=252)"
      ]
     },
     "execution_count": 20,
     "metadata": {},
     "output_type": "execute_result"
    }
   ],
   "source": [
    "#box usado para saber posicao do mouse na tela\n",
    "time.sleep(5)\n",
    "py.position()"
   ]
  },
  {
   "cell_type": "code",
   "execution_count": null,
   "metadata": {},
   "outputs": [],
   "source": []
  }
 ],
 "metadata": {
  "kernelspec": {
   "display_name": "Python 3",
   "language": "python",
   "name": "python3"
  },
  "language_info": {
   "codemirror_mode": {
    "name": "ipython",
    "version": 3
   },
   "file_extension": ".py",
   "mimetype": "text/x-python",
   "name": "python",
   "nbconvert_exporter": "python",
   "pygments_lexer": "ipython3",
   "version": "3.8.5"
  }
 },
 "nbformat": 4,
 "nbformat_minor": 4
}
